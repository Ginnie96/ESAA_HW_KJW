{
 "cells": [
  {
   "cell_type": "markdown",
   "metadata": {},
   "source": [
    "### 0. 영국.미국.캐나다의 자료를 모두 통합하여 조회수로 정렬한 뒤, 어떤 나라가 가장 조회수가 많은지 알아보겠다. \n",
    "\n",
    "1) 파일불러오기 "
   ]
  },
  {
   "cell_type": "code",
   "execution_count": 2,
   "metadata": {},
   "outputs": [],
   "source": [
    "import pandas as pd\n",
    "us = pd.read_csv('C:/temp/yt/USvideos.csv')\n",
    "ca = pd.read_csv('C:/temp/yt/CAvideos.csv')\n",
    "gb = pd.read_csv('C:/temp/yt/GBvideos.csv')"
   ]
  },
  {
   "cell_type": "markdown",
   "metadata": {},
   "source": [
    "country 변수 추가하기 "
   ]
  },
  {
   "cell_type": "code",
   "execution_count": 3,
   "metadata": {},
   "outputs": [],
   "source": [
    "us[\"country\"] = \"US\"\n",
    "ca[\"country\"] = \"CA\"\n",
    "gb[\"country\"] = \"GB\""
   ]
  },
  {
   "cell_type": "markdown",
   "metadata": {},
   "source": [
    "2) merge실행 "
   ]
  },
  {
   "cell_type": "code",
   "execution_count": 4,
   "metadata": {},
   "outputs": [
    {
     "data": {
      "text/plain": [
       "True"
      ]
     },
     "execution_count": 4,
     "metadata": {},
     "output_type": "execute_result"
    }
   ],
   "source": [
    "list(us)==list(ca)\n",
    "list(us)==list(us)"
   ]
  },
  {
   "cell_type": "code",
   "execution_count": 6,
   "metadata": {},
   "outputs": [
    {
     "name": "stdout",
     "output_type": "stream",
     "text": [
      "(120746, 17)\n"
     ]
    }
   ],
   "source": [
    "youtube_merge = pd.concat([ca,us,gb])\n",
    "print(youtube_merge.shape)"
   ]
  },
  {
   "cell_type": "markdown",
   "metadata": {},
   "source": [
    "3) 조회수로 sort \n",
    "\n",
    "4) 100위까지 자르기. "
   ]
  },
  {
   "cell_type": "code",
   "execution_count": 7,
   "metadata": {},
   "outputs": [],
   "source": [
    "youtube_sort = youtube_merge.sort_values([\"views\"], ascending=[False])\n",
    "youtube_sort=youtube_sort.reset_index(drop=True)"
   ]
  },
  {
   "cell_type": "code",
   "execution_count": 21,
   "metadata": {},
   "outputs": [],
   "source": [
    "youtube_100 = youtube_sort.iloc[0:100, ]"
   ]
  },
  {
   "cell_type": "markdown",
   "metadata": {},
   "source": [
    "5) 나라별로 갯수세기"
   ]
  },
  {
   "cell_type": "code",
   "execution_count": 9,
   "metadata": {},
   "outputs": [
    {
     "data": {
      "text/plain": [
       "GB    93\n",
       "US     7\n",
       "Name: country, dtype: int64"
      ]
     },
     "execution_count": 9,
     "metadata": {},
     "output_type": "execute_result"
    }
   ],
   "source": [
    "youtube_100[\"country\"].value_counts()"
   ]
  },
  {
   "cell_type": "code",
   "execution_count": 45,
   "metadata": {},
   "outputs": [
    {
     "data": {
      "text/plain": [
       "0    GB\n",
       "1    GB\n",
       "2    GB\n",
       "3    GB\n",
       "4    GB\n",
       "Name: country, dtype: object"
      ]
     },
     "execution_count": 45,
     "metadata": {},
     "output_type": "execute_result"
    }
   ],
   "source": [
    "youtube_100[\"country\"].head()"
   ]
  },
  {
   "cell_type": "markdown",
   "metadata": {},
   "source": [
    "#### 2-1)  그래프 그리기"
   ]
  },
  {
   "cell_type": "code",
   "execution_count": 18,
   "metadata": {},
   "outputs": [],
   "source": [
    "%matplotlib inline \n",
    "import matplotlib.pyplot as plt\n",
    "import seaborn as sns\n"
   ]
  },
  {
   "cell_type": "code",
   "execution_count": 20,
   "metadata": {},
   "outputs": [
    {
     "data": {
      "text/plain": [
       "Text(0, 0.5, 'Frequency')"
      ]
     },
     "execution_count": 20,
     "metadata": {},
     "output_type": "execute_result"
    },
    {
     "data": {
      "image/png": "[encoded data removed]",
      "text/plain": [
       "<Figure size 432x288 with 1 Axes>"
      ]
     },
     "metadata": {
      "needs_background": "light"
     },
     "output_type": "display_data"
    }
   ],
   "source": [
    "country_bar = plt.subplots() \n",
    "country_bar = sns.countplot('country', data=youtube_100)  \n",
    "country_bar.set_xlabel('country') \n",
    "country_bar.set_ylabel('Frequency') "
   ]
  },
  {
   "cell_type": "markdown",
   "metadata": {},
   "source": [
    "조회수 100위로 잘라 막대그래프를 보니, 영국이 가장 많은 것을 확인할 수 있다. "
   ]
  },
  {
   "cell_type": "markdown",
   "metadata": {},
   "source": [
    "#### 추가) 나열해보니, 겹치는 영상이 많은 것을 알 수 있었다. 임의로 비디오 아이디가 중복되는 행은 지우고 다시 그래프를 그려서 알아보고자 한다. "
   ]
  },
  {
   "cell_type": "code",
   "execution_count": 33,
   "metadata": {
    "scrolled": true
   },
   "outputs": [
    {
     "data": {
      "text/plain": [
       "0         False\n",
       "1          True\n",
       "2          True\n",
       "3          True\n",
       "4          True\n",
       "5          True\n",
       "6          True\n",
       "7          True\n",
       "8          True\n",
       "9         False\n",
       "10        False\n",
       "11         True\n",
       "12         True\n",
       "13         True\n",
       "14         True\n",
       "15         True\n",
       "16         True\n",
       "17         True\n",
       "18         True\n",
       "19         True\n",
       "20         True\n",
       "21         True\n",
       "22         True\n",
       "23         True\n",
       "24        False\n",
       "25         True\n",
       "26         True\n",
       "27         True\n",
       "28         True\n",
       "29         True\n",
       "          ...  \n",
       "120716     True\n",
       "120717     True\n",
       "120718     True\n",
       "120719     True\n",
       "120720     True\n",
       "120721     True\n",
       "120722     True\n",
       "120723     True\n",
       "120724     True\n",
       "120725     True\n",
       "120726    False\n",
       "120727     True\n",
       "120728     True\n",
       "120729     True\n",
       "120730    False\n",
       "120731     True\n",
       "120732     True\n",
       "120733     True\n",
       "120734     True\n",
       "120735    False\n",
       "120736    False\n",
       "120737    False\n",
       "120738     True\n",
       "120739     True\n",
       "120740    False\n",
       "120741     True\n",
       "120742     True\n",
       "120743    False\n",
       "120744     True\n",
       "120745     True\n",
       "Name: video_id, Length: 120746, dtype: bool"
      ]
     },
     "execution_count": 33,
     "metadata": {},
     "output_type": "execute_result"
    }
   ],
   "source": [
    "youtube_sort['video_id'].duplicated() \n",
    "#중복영상들 확인 (TRUE값이 중복값 있다는 것 의미.)"
   ]
  },
  {
   "cell_type": "markdown",
   "metadata": {},
   "source": [
    "중복된 데이터 지우고 확인. 인덱스를 보니 중복된 값이 없어진 것을 알 수 있음. "
   ]
  },
  {
   "cell_type": "code",
   "execution_count": 35,
   "metadata": {},
   "outputs": [
    {
     "data": {
      "text/html": [
       "<div>\n",
       "<style scoped>\n",
       "    .dataframe tbody tr th:only-of-type {\n",
       "        vertical-align: middle;\n",
       "    }\n",
       "\n",
       "    .dataframe tbody tr th {\n",
       "        vertical-align: top;\n",
       "    }\n",
       "\n",
       "    .dataframe thead th {\n",
       "        text-align: right;\n",
       "    }\n",
       "</style>\n",
       "<table border=\"1\" class=\"dataframe\">\n",
       "  <thead>\n",
       "    <tr style=\"text-align: right;\">\n",
       "      <th></th>\n",
       "      <th>video_id</th>\n",
       "      <th>trending_date</th>\n",
       "      <th>title</th>\n",
       "      <th>channel_title</th>\n",
       "      <th>category_id</th>\n",
       "      <th>publish_time</th>\n",
       "      <th>tags</th>\n",
       "      <th>views</th>\n",
       "      <th>likes</th>\n",
       "      <th>dislikes</th>\n",
       "      <th>comment_count</th>\n",
       "      <th>thumbnail_link</th>\n",
       "      <th>comments_disabled</th>\n",
       "      <th>ratings_disabled</th>\n",
       "      <th>video_error_or_removed</th>\n",
       "      <th>description</th>\n",
       "      <th>country</th>\n",
       "    </tr>\n",
       "  </thead>\n",
       "  <tbody>\n",
       "    <tr>\n",
       "      <th>0</th>\n",
       "      <td>_I_D_8Z4sJE</td>\n",
       "      <td>18.07.04</td>\n",
       "      <td>Nicky Jam x J. Balvin - X (EQUIS) | Video Ofic...</td>\n",
       "      <td>NickyJamTV</td>\n",
       "      <td>10</td>\n",
       "      <td>2018-03-02T05:00:19.000Z</td>\n",
       "      <td>Bad Bunny|\"Amorfoda\"|\"Dura\"|\"Daddy Yankee\"|\"Oz...</td>\n",
       "      <td>424538912</td>\n",
       "      <td>2818771</td>\n",
       "      <td>149275</td>\n",
       "      <td>99380</td>\n",
       "      <td>https://i.ytimg.com/vi/_I_D_8Z4sJE/default.jpg</td>\n",
       "      <td>False</td>\n",
       "      <td>False</td>\n",
       "      <td>False</td>\n",
       "      <td>Disponible en tu plataforma preferida:\\nhttps:...</td>\n",
       "      <td>GB</td>\n",
       "    </tr>\n",
       "    <tr>\n",
       "      <th>9</th>\n",
       "      <td>9jI-z9QN6g8</td>\n",
       "      <td>18.18.05</td>\n",
       "      <td>Te Bote Remix - Casper, Nio García, Darell, Ni...</td>\n",
       "      <td>Flow La Movie</td>\n",
       "      <td>10</td>\n",
       "      <td>2018-04-11T22:00:00.000Z</td>\n",
       "      <td>Te Bote|\"Te Bote Remix\"|\"Flow La Movie\"|\"Ozuna...</td>\n",
       "      <td>337621571</td>\n",
       "      <td>2581961</td>\n",
       "      <td>166549</td>\n",
       "      <td>113564</td>\n",
       "      <td>https://i.ytimg.com/vi/9jI-z9QN6g8/default.jpg</td>\n",
       "      <td>False</td>\n",
       "      <td>False</td>\n",
       "      <td>False</td>\n",
       "      <td>Flow La Movie Presenta - Te Boté Remix - Caspe...</td>\n",
       "      <td>GB</td>\n",
       "    </tr>\n",
       "    <tr>\n",
       "      <th>10</th>\n",
       "      <td>kLpH1nSLJSs</td>\n",
       "      <td>18.23.03</td>\n",
       "      <td>Bad Bunny - Amorfoda | Video Oficial</td>\n",
       "      <td>Bad Bunny</td>\n",
       "      <td>10</td>\n",
       "      <td>2018-02-15T00:00:03.000Z</td>\n",
       "      <td>Bad|\"Bunny\"|\"Bad Bunny\"|\"Video Oficial\"|\"Music...</td>\n",
       "      <td>328860380</td>\n",
       "      <td>3823879</td>\n",
       "      <td>215530</td>\n",
       "      <td>225216</td>\n",
       "      <td>https://i.ytimg.com/vi/kLpH1nSLJSs/default.jpg</td>\n",
       "      <td>False</td>\n",
       "      <td>False</td>\n",
       "      <td>False</td>\n",
       "      <td>Bad Bunny - Amorfoda | Video Oficial\\n\\n-Click...</td>\n",
       "      <td>GB</td>\n",
       "    </tr>\n",
       "    <tr>\n",
       "      <th>24</th>\n",
       "      <td>wfWkmURBNv8</td>\n",
       "      <td>18.01.03</td>\n",
       "      <td>Ozuna x Romeo Santos - El Farsante Remix</td>\n",
       "      <td>Ozuna</td>\n",
       "      <td>10</td>\n",
       "      <td>2018-01-30T15:00:05.000Z</td>\n",
       "      <td>Ozuna|\"Reggaeton\"|\"Odisea\"|\"Odisea The Album\"|...</td>\n",
       "      <td>288811992</td>\n",
       "      <td>1618180</td>\n",
       "      <td>151147</td>\n",
       "      <td>67506</td>\n",
       "      <td>https://i.ytimg.com/vi/wfWkmURBNv8/default.jpg</td>\n",
       "      <td>False</td>\n",
       "      <td>False</td>\n",
       "      <td>False</td>\n",
       "      <td>DESCARGA Odisea Aqui: http://apple.co/2vX00sT\\...</td>\n",
       "      <td>GB</td>\n",
       "    </tr>\n",
       "    <tr>\n",
       "      <th>38</th>\n",
       "      <td>VYOjWnS4cMY</td>\n",
       "      <td>18.11.06</td>\n",
       "      <td>Childish Gambino - This Is America (Official V...</td>\n",
       "      <td>ChildishGambinoVEVO</td>\n",
       "      <td>10</td>\n",
       "      <td>2018-05-06T04:00:07.000Z</td>\n",
       "      <td>Childish Gambino|\"Rap\"|\"This Is America\"|\"mcDJ...</td>\n",
       "      <td>259721696</td>\n",
       "      <td>5444541</td>\n",
       "      <td>379862</td>\n",
       "      <td>553371</td>\n",
       "      <td>https://i.ytimg.com/vi/VYOjWnS4cMY/default.jpg</td>\n",
       "      <td>False</td>\n",
       "      <td>False</td>\n",
       "      <td>False</td>\n",
       "      <td>“This is America” by Childish Gambino http://s...</td>\n",
       "      <td>GB</td>\n",
       "    </tr>\n",
       "  </tbody>\n",
       "</table>\n",
       "</div>"
      ],
      "text/plain": [
       "       video_id trending_date  \\\n",
       "0   _I_D_8Z4sJE      18.07.04   \n",
       "9   9jI-z9QN6g8      18.18.05   \n",
       "10  kLpH1nSLJSs      18.23.03   \n",
       "24  wfWkmURBNv8      18.01.03   \n",
       "38  VYOjWnS4cMY      18.11.06   \n",
       "\n",
       "                                                title        channel_title  \\\n",
       "0   Nicky Jam x J. Balvin - X (EQUIS) | Video Ofic...           NickyJamTV   \n",
       "9   Te Bote Remix - Casper, Nio García, Darell, Ni...        Flow La Movie   \n",
       "10               Bad Bunny - Amorfoda | Video Oficial            Bad Bunny   \n",
       "24           Ozuna x Romeo Santos - El Farsante Remix                Ozuna   \n",
       "38  Childish Gambino - This Is America (Official V...  ChildishGambinoVEVO   \n",
       "\n",
       "    category_id              publish_time  \\\n",
       "0            10  2018-03-02T05:00:19.000Z   \n",
       "9            10  2018-04-11T22:00:00.000Z   \n",
       "10           10  2018-02-15T00:00:03.000Z   \n",
       "24           10  2018-01-30T15:00:05.000Z   \n",
       "38           10  2018-05-06T04:00:07.000Z   \n",
       "\n",
       "                                                 tags      views    likes  \\\n",
       "0   Bad Bunny|\"Amorfoda\"|\"Dura\"|\"Daddy Yankee\"|\"Oz...  424538912  2818771   \n",
       "9   Te Bote|\"Te Bote Remix\"|\"Flow La Movie\"|\"Ozuna...  337621571  2581961   \n",
       "10  Bad|\"Bunny\"|\"Bad Bunny\"|\"Video Oficial\"|\"Music...  328860380  3823879   \n",
       "24  Ozuna|\"Reggaeton\"|\"Odisea\"|\"Odisea The Album\"|...  288811992  1618180   \n",
       "38  Childish Gambino|\"Rap\"|\"This Is America\"|\"mcDJ...  259721696  5444541   \n",
       "\n",
       "    dislikes  comment_count                                  thumbnail_link  \\\n",
       "0     149275          99380  https://i.ytimg.com/vi/_I_D_8Z4sJE/default.jpg   \n",
       "9     166549         113564  https://i.ytimg.com/vi/9jI-z9QN6g8/default.jpg   \n",
       "10    215530         225216  https://i.ytimg.com/vi/kLpH1nSLJSs/default.jpg   \n",
       "24    151147          67506  https://i.ytimg.com/vi/wfWkmURBNv8/default.jpg   \n",
       "38    379862         553371  https://i.ytimg.com/vi/VYOjWnS4cMY/default.jpg   \n",
       "\n",
       "    comments_disabled  ratings_disabled  video_error_or_removed  \\\n",
       "0               False             False                   False   \n",
       "9               False             False                   False   \n",
       "10              False             False                   False   \n",
       "24              False             False                   False   \n",
       "38              False             False                   False   \n",
       "\n",
       "                                          description country  \n",
       "0   Disponible en tu plataforma preferida:\\nhttps:...      GB  \n",
       "9   Flow La Movie Presenta - Te Boté Remix - Caspe...      GB  \n",
       "10  Bad Bunny - Amorfoda | Video Oficial\\n\\n-Click...      GB  \n",
       "24  DESCARGA Odisea Aqui: http://apple.co/2vX00sT\\...      GB  \n",
       "38  “This is America” by Childish Gambino http://s...      GB  "
      ]
     },
     "execution_count": 35,
     "metadata": {},
     "output_type": "execute_result"
    }
   ],
   "source": [
    "youtube_drop = youtube_sort.drop_duplicates('video_id') \n",
    "youtube_drop.head() \n"
   ]
  },
  {
   "cell_type": "code",
   "execution_count": 36,
   "metadata": {},
   "outputs": [
    {
     "name": "stdout",
     "output_type": "stream",
     "text": [
      "(30318, 17)\n"
     ]
    }
   ],
   "source": [
    "print(youtube_drop.shape)\n"
   ]
  },
  {
   "cell_type": "markdown",
   "metadata": {},
   "source": [
    "중복 제거 전 (120746, 17) 였으나 제거 후에 30318행이 된 것을 확인할 수 있다. \n",
    "\n",
    "우선 30318개의 자료로 먼저 나라별 그래프를 그려보겠다.  "
   ]
  },
  {
   "cell_type": "code",
   "execution_count": 42,
   "metadata": {},
   "outputs": [
    {
     "data": {
      "text/plain": [
       "Text(0, 0.5, 'Frequency')"
      ]
     },
     "execution_count": 42,
     "metadata": {},
     "output_type": "execute_result"
    },
    {
     "data": {
      "image/png": "[encoded data removed]",
      "text/plain": [
       "<Figure size 432x288 with 1 Axes>"
      ]
     },
     "metadata": {
      "needs_background": "light"
     },
     "output_type": "display_data"
    }
   ],
   "source": [
    "bar_total = plt.subplots() \n",
    "bar_total = sns.countplot('country', data=youtube_drop)  \n",
    "bar_total.set_xlabel('country') \n",
    "bar_total.set_ylabel('Frequency') "
   ]
  },
  {
   "cell_type": "markdown",
   "metadata": {},
   "source": [
    "조회수에 상관없이, 자료의 수는 캐나다가 월등히 많음을 알 수 있다. "
   ]
  },
  {
   "cell_type": "code",
   "execution_count": 43,
   "metadata": {},
   "outputs": [
    {
     "data": {
      "text/plain": [
       "Text(0, 0.5, 'Frequency')"
      ]
     },
     "execution_count": 43,
     "metadata": {},
     "output_type": "execute_result"
    },
    {
     "data": {
      "image/png": "[encoded data removed]",
      "text/plain": [
       "<Figure size 432x288 with 1 Axes>"
      ]
     },
     "metadata": {
      "needs_background": "light"
     },
     "output_type": "display_data"
    }
   ],
   "source": [
    "drop_100 = youtube_drop.iloc[0:100,]\n",
    "bar1 = plt.subplots() \n",
    "bar1 = sns.countplot('country', data=drop_100)  \n",
    "bar1.set_xlabel('country') \n",
    "bar1.set_ylabel('Frequency') "
   ]
  },
  {
   "cell_type": "markdown",
   "metadata": {},
   "source": [
    "그러나 100위까지만 본다면, 여전히 영국이 우세하게 많음을 알 수 있다. "
   ]
  },
  {
   "cell_type": "code",
   "execution_count": 51,
   "metadata": {},
   "outputs": [
    {
     "data": {
      "text/plain": [
       "Text(0, 0.5, 'views')"
      ]
     },
     "execution_count": 51,
     "metadata": {},
     "output_type": "execute_result"
    },
    {
     "data": {
      "image/png": "[encoded data removed]",
      "text/plain": [
       "<Figure size 432x288 with 1 Axes>"
      ]
     },
     "metadata": {
      "needs_background": "light"
     },
     "output_type": "display_data"
    }
   ],
   "source": [
    "plot2 = plt.subplots() \n",
    "plot2 = sns.boxplot(x='country',y='views', data= drop_100)\n",
    "plot2.set_xlabel('country') \n",
    "plot2.set_ylabel('views') "
   ]
  },
  {
   "cell_type": "markdown",
   "metadata": {},
   "source": [
    "마지막으로 나라별 조회수의 분포 모양을 보기위해서 박스 그림을 그려보았다. \n",
    "영국이 미국, 캐나다에 비해서 높은 조회수 쪽에 분포하고 있는 것을 알 수 있다. "
   ]
  }
 ],
 "metadata": {
  "kernelspec": {
   "display_name": "Python 3",
   "language": "python",
   "name": "python3"
  },
  "language_info": {
   "codemirror_mode": {
    "name": "ipython",
    "version": 3
   },
   "file_extension": ".py",
   "mimetype": "text/x-python",
   "name": "python",
   "nbconvert_exporter": "python",
   "pygments_lexer": "ipython3",
   "version": "3.7.3"
  }
 },
 "nbformat": 4,
 "nbformat_minor": 2
}
