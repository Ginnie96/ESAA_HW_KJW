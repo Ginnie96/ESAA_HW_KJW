{
 "cells": [
  {
   "cell_type": "markdown",
   "metadata": {
    "colab_type": "text",
    "id": "gDr6I3uI25nd"
   },
   "source": [
    "# 랜덤 포레스트를 활용해 Covid-19 발생에 중요한 변수 선택하기 "
   ]
  },
  {
   "cell_type": "markdown",
   "metadata": {
    "colab_type": "text",
    "id": "4baq06nq3Rzt"
   },
   "source": [
    "#### **라이브러리 설치**"
   ]
  },
  {
   "cell_type": "code",
   "execution_count": 2,
   "metadata": {},
   "outputs": [
    {
     "name": "stdout",
     "output_type": "stream",
     "text": [
      "Collecting plotly\n",
      "  Downloading plotly-4.9.0-py2.py3-none-any.whl (12.9 MB)\n",
      "Collecting retrying>=1.3.3\n",
      "  Downloading retrying-1.3.3.tar.gz (10 kB)\n",
      "Requirement already satisfied: six in c:\\users\\jinny\\anaconda3\\lib\\site-packages (from plotly) (1.14.0)\n",
      "Building wheels for collected packages: retrying\n",
      "  Building wheel for retrying (setup.py): started\n",
      "  Building wheel for retrying (setup.py): finished with status 'done'\n",
      "  Created wheel for retrying: filename=retrying-1.3.3-py3-none-any.whl size=11435 sha256=e859df40f8dc86ab6ffb00145a7c431c04c2458165f5ebf082926294adee07fd\n",
      "  Stored in directory: c:\\users\\jinny\\appdata\\local\\pip\\cache\\wheels\\f9\\8d\\8d\\f6af3f7f9eea3553bc2fe6d53e4b287dad18b06a861ac56ddf\n",
      "Successfully built retrying\n",
      "Installing collected packages: retrying, plotly\n",
      "Successfully installed plotly-4.9.0 retrying-1.3.3\n"
     ]
    }
   ],
   "source": [
    "! pip install plotly "
   ]
  },
  {
   "cell_type": "code",
   "execution_count": 4,
   "metadata": {},
   "outputs": [
    {
     "name": "stdout",
     "output_type": "stream",
     "text": [
      "Collecting cufflinks\n",
      "  Downloading cufflinks-0.17.3.tar.gz (81 kB)\n",
      "Requirement already satisfied: numpy>=1.9.2 in c:\\users\\jinny\\anaconda3\\lib\\site-packages (from cufflinks) (1.18.1)\n",
      "Requirement already satisfied: pandas>=0.19.2 in c:\\users\\jinny\\anaconda3\\lib\\site-packages (from cufflinks) (1.0.1)\n",
      "Requirement already satisfied: plotly>=4.1.1 in c:\\users\\jinny\\anaconda3\\lib\\site-packages (from cufflinks) (4.9.0)\n",
      "Requirement already satisfied: six>=1.9.0 in c:\\users\\jinny\\anaconda3\\lib\\site-packages (from cufflinks) (1.14.0)\n",
      "Collecting colorlover>=0.2.1\n",
      "  Downloading colorlover-0.3.0-py3-none-any.whl (8.9 kB)\n",
      "Requirement already satisfied: setuptools>=34.4.1 in c:\\users\\jinny\\anaconda3\\lib\\site-packages (from cufflinks) (45.2.0.post20200210)\n",
      "Requirement already satisfied: ipython>=5.3.0 in c:\\users\\jinny\\anaconda3\\lib\\site-packages (from cufflinks) (7.12.0)\n",
      "Requirement already satisfied: ipywidgets>=7.0.0 in c:\\users\\jinny\\anaconda3\\lib\\site-packages (from cufflinks) (7.5.1)\n",
      "Requirement already satisfied: python-dateutil>=2.6.1 in c:\\users\\jinny\\anaconda3\\lib\\site-packages (from pandas>=0.19.2->cufflinks) (2.8.1)\n",
      "Requirement already satisfied: pytz>=2017.2 in c:\\users\\jinny\\anaconda3\\lib\\site-packages (from pandas>=0.19.2->cufflinks) (2019.3)\n",
      "Requirement already satisfied: retrying>=1.3.3 in c:\\users\\jinny\\anaconda3\\lib\\site-packages (from plotly>=4.1.1->cufflinks) (1.3.3)\n",
      "Requirement already satisfied: backcall in c:\\users\\jinny\\anaconda3\\lib\\site-packages (from ipython>=5.3.0->cufflinks) (0.1.0)\n",
      "Requirement already satisfied: traitlets>=4.2 in c:\\users\\jinny\\anaconda3\\lib\\site-packages (from ipython>=5.3.0->cufflinks) (4.3.3)\n",
      "Requirement already satisfied: pygments in c:\\users\\jinny\\anaconda3\\lib\\site-packages (from ipython>=5.3.0->cufflinks) (2.5.2)\n",
      "Requirement already satisfied: decorator in c:\\users\\jinny\\anaconda3\\lib\\site-packages (from ipython>=5.3.0->cufflinks) (4.4.1)\n",
      "Requirement already satisfied: colorama; sys_platform == \"win32\" in c:\\users\\jinny\\anaconda3\\lib\\site-packages (from ipython>=5.3.0->cufflinks) (0.4.3)\n",
      "Requirement already satisfied: jedi>=0.10 in c:\\users\\jinny\\anaconda3\\lib\\site-packages (from ipython>=5.3.0->cufflinks) (0.14.1)\n",
      "Requirement already satisfied: prompt-toolkit!=3.0.0,!=3.0.1,<3.1.0,>=2.0.0 in c:\\users\\jinny\\anaconda3\\lib\\site-packages (from ipython>=5.3.0->cufflinks) (3.0.3)\n",
      "Requirement already satisfied: pickleshare in c:\\users\\jinny\\anaconda3\\lib\\site-packages (from ipython>=5.3.0->cufflinks) (0.7.5)\n",
      "Requirement already satisfied: nbformat>=4.2.0 in c:\\users\\jinny\\anaconda3\\lib\\site-packages (from ipywidgets>=7.0.0->cufflinks) (5.0.4)\n",
      "Requirement already satisfied: ipykernel>=4.5.1 in c:\\users\\jinny\\anaconda3\\lib\\site-packages (from ipywidgets>=7.0.0->cufflinks) (5.1.4)\n",
      "Requirement already satisfied: widgetsnbextension~=3.5.0 in c:\\users\\jinny\\anaconda3\\lib\\site-packages (from ipywidgets>=7.0.0->cufflinks) (3.5.1)\n",
      "Requirement already satisfied: ipython-genutils in c:\\users\\jinny\\anaconda3\\lib\\site-packages (from traitlets>=4.2->ipython>=5.3.0->cufflinks) (0.2.0)\n",
      "Requirement already satisfied: parso>=0.5.0 in c:\\users\\jinny\\anaconda3\\lib\\site-packages (from jedi>=0.10->ipython>=5.3.0->cufflinks) (0.5.2)\n",
      "Requirement already satisfied: wcwidth in c:\\users\\jinny\\anaconda3\\lib\\site-packages (from prompt-toolkit!=3.0.0,!=3.0.1,<3.1.0,>=2.0.0->ipython>=5.3.0->cufflinks) (0.1.8)\n",
      "Requirement already satisfied: jsonschema!=2.5.0,>=2.4 in c:\\users\\jinny\\anaconda3\\lib\\site-packages (from nbformat>=4.2.0->ipywidgets>=7.0.0->cufflinks) (3.2.0)\n",
      "Requirement already satisfied: jupyter-core in c:\\users\\jinny\\anaconda3\\lib\\site-packages (from nbformat>=4.2.0->ipywidgets>=7.0.0->cufflinks) (4.6.1)\n",
      "Requirement already satisfied: jupyter-client in c:\\users\\jinny\\anaconda3\\lib\\site-packages (from ipykernel>=4.5.1->ipywidgets>=7.0.0->cufflinks) (5.3.4)\n",
      "Requirement already satisfied: tornado>=4.2 in c:\\users\\jinny\\anaconda3\\lib\\site-packages (from ipykernel>=4.5.1->ipywidgets>=7.0.0->cufflinks) (6.0.3)\n",
      "Requirement already satisfied: notebook>=4.4.1 in c:\\users\\jinny\\anaconda3\\lib\\site-packages (from widgetsnbextension~=3.5.0->ipywidgets>=7.0.0->cufflinks) (6.0.3)\n",
      "Requirement already satisfied: importlib-metadata; python_version < \"3.8\" in c:\\users\\jinny\\anaconda3\\lib\\site-packages (from jsonschema!=2.5.0,>=2.4->nbformat>=4.2.0->ipywidgets>=7.0.0->cufflinks) (1.5.0)\n",
      "Requirement already satisfied: pyrsistent>=0.14.0 in c:\\users\\jinny\\anaconda3\\lib\\site-packages (from jsonschema!=2.5.0,>=2.4->nbformat>=4.2.0->ipywidgets>=7.0.0->cufflinks) (0.15.7)\n",
      "Requirement already satisfied: attrs>=17.4.0 in c:\\users\\jinny\\anaconda3\\lib\\site-packages (from jsonschema!=2.5.0,>=2.4->nbformat>=4.2.0->ipywidgets>=7.0.0->cufflinks) (19.3.0)\n",
      "Requirement already satisfied: pywin32>=1.0; sys_platform == \"win32\" in c:\\users\\jinny\\anaconda3\\lib\\site-packages (from jupyter-core->nbformat>=4.2.0->ipywidgets>=7.0.0->cufflinks) (227)\n",
      "Requirement already satisfied: pyzmq>=13 in c:\\users\\jinny\\anaconda3\\lib\\site-packages (from jupyter-client->ipykernel>=4.5.1->ipywidgets>=7.0.0->cufflinks) (18.1.1)\n",
      "Requirement already satisfied: nbconvert in c:\\users\\jinny\\anaconda3\\lib\\site-packages (from notebook>=4.4.1->widgetsnbextension~=3.5.0->ipywidgets>=7.0.0->cufflinks) (5.6.1)\n",
      "Requirement already satisfied: prometheus-client in c:\\users\\jinny\\anaconda3\\lib\\site-packages (from notebook>=4.4.1->widgetsnbextension~=3.5.0->ipywidgets>=7.0.0->cufflinks) (0.7.1)\n",
      "Requirement already satisfied: Send2Trash in c:\\users\\jinny\\anaconda3\\lib\\site-packages (from notebook>=4.4.1->widgetsnbextension~=3.5.0->ipywidgets>=7.0.0->cufflinks) (1.5.0)\n",
      "Requirement already satisfied: jinja2 in c:\\users\\jinny\\anaconda3\\lib\\site-packages (from notebook>=4.4.1->widgetsnbextension~=3.5.0->ipywidgets>=7.0.0->cufflinks) (2.11.1)\n",
      "Requirement already satisfied: terminado>=0.8.1 in c:\\users\\jinny\\anaconda3\\lib\\site-packages (from notebook>=4.4.1->widgetsnbextension~=3.5.0->ipywidgets>=7.0.0->cufflinks) (0.8.3)\n",
      "Requirement already satisfied: zipp>=0.5 in c:\\users\\jinny\\anaconda3\\lib\\site-packages (from importlib-metadata; python_version < \"3.8\"->jsonschema!=2.5.0,>=2.4->nbformat>=4.2.0->ipywidgets>=7.0.0->cufflinks) (2.2.0)\n",
      "Requirement already satisfied: testpath in c:\\users\\jinny\\anaconda3\\lib\\site-packages (from nbconvert->notebook>=4.4.1->widgetsnbextension~=3.5.0->ipywidgets>=7.0.0->cufflinks) (0.4.4)\n",
      "Requirement already satisfied: mistune<2,>=0.8.1 in c:\\users\\jinny\\anaconda3\\lib\\site-packages (from nbconvert->notebook>=4.4.1->widgetsnbextension~=3.5.0->ipywidgets>=7.0.0->cufflinks) (0.8.4)\n",
      "Requirement already satisfied: pandocfilters>=1.4.1 in c:\\users\\jinny\\anaconda3\\lib\\site-packages (from nbconvert->notebook>=4.4.1->widgetsnbextension~=3.5.0->ipywidgets>=7.0.0->cufflinks) (1.4.2)\n",
      "Requirement already satisfied: defusedxml in c:\\users\\jinny\\anaconda3\\lib\\site-packages (from nbconvert->notebook>=4.4.1->widgetsnbextension~=3.5.0->ipywidgets>=7.0.0->cufflinks) (0.6.0)\n",
      "Requirement already satisfied: bleach in c:\\users\\jinny\\anaconda3\\lib\\site-packages (from nbconvert->notebook>=4.4.1->widgetsnbextension~=3.5.0->ipywidgets>=7.0.0->cufflinks) (3.1.0)\n",
      "Requirement already satisfied: entrypoints>=0.2.2 in c:\\users\\jinny\\anaconda3\\lib\\site-packages (from nbconvert->notebook>=4.4.1->widgetsnbextension~=3.5.0->ipywidgets>=7.0.0->cufflinks) (0.3)\n",
      "Requirement already satisfied: MarkupSafe>=0.23 in c:\\users\\jinny\\anaconda3\\lib\\site-packages (from jinja2->notebook>=4.4.1->widgetsnbextension~=3.5.0->ipywidgets>=7.0.0->cufflinks) (1.1.1)\n",
      "Requirement already satisfied: webencodings in c:\\users\\jinny\\anaconda3\\lib\\site-packages (from bleach->nbconvert->notebook>=4.4.1->widgetsnbextension~=3.5.0->ipywidgets>=7.0.0->cufflinks) (0.5.1)\n",
      "Building wheels for collected packages: cufflinks\n",
      "  Building wheel for cufflinks (setup.py): started\n",
      "  Building wheel for cufflinks (setup.py): finished with status 'done'\n",
      "  Created wheel for cufflinks: filename=cufflinks-0.17.3-py3-none-any.whl size=68729 sha256=d5b675694d80379b4338970a673a9da43f4cf3370d3a6e330d10649c48a5d3b5\n",
      "  Stored in directory: c:\\users\\jinny\\appdata\\local\\pip\\cache\\wheels\\e1\\27\\13\\3fe67fa7ea7be444b831d117220b3b586b872c9acd4df480d0\n",
      "Successfully built cufflinks\n",
      "Installing collected packages: colorlover, cufflinks\n",
      "Successfully installed colorlover-0.3.0 cufflinks-0.17.3\n"
     ]
    }
   ],
   "source": [
    "!pip install cufflinks"
   ]
  },
  {
   "cell_type": "code",
   "execution_count": 5,
   "metadata": {
    "colab": {
     "base_uri": "https://localhost:8080/",
     "height": 75
    },
    "colab_type": "code",
    "id": "zkhtX2AV2yfX",
    "outputId": "5365dcf4-22f5-4858-967d-e3d59f96eec1"
   },
   "outputs": [
    {
     "data": {
      "text/html": [
       "        <script type=\"text/javascript\">\n",
       "        window.PlotlyConfig = {MathJaxConfig: 'local'};\n",
       "        if (window.MathJax) {MathJax.Hub.Config({SVG: {font: \"STIX-Web\"}});}\n",
       "        if (typeof require !== 'undefined') {\n",
       "        require.undef(\"plotly\");\n",
       "        requirejs.config({\n",
       "            paths: {\n",
       "                'plotly': ['https://cdn.plot.ly/plotly-latest.min']\n",
       "            }\n",
       "        });\n",
       "        require(['plotly'], function(Plotly) {\n",
       "            window._Plotly = Plotly;\n",
       "        });\n",
       "        }\n",
       "        </script>\n",
       "        "
      ]
     },
     "metadata": {},
     "output_type": "display_data"
    },
    {
     "data": {
      "text/html": [
       "        <script type=\"text/javascript\">\n",
       "        window.PlotlyConfig = {MathJaxConfig: 'local'};\n",
       "        if (window.MathJax) {MathJax.Hub.Config({SVG: {font: \"STIX-Web\"}});}\n",
       "        if (typeof require !== 'undefined') {\n",
       "        require.undef(\"plotly\");\n",
       "        requirejs.config({\n",
       "            paths: {\n",
       "                'plotly': ['https://cdn.plot.ly/plotly-latest.min']\n",
       "            }\n",
       "        });\n",
       "        require(['plotly'], function(Plotly) {\n",
       "            window._Plotly = Plotly;\n",
       "        });\n",
       "        }\n",
       "        </script>\n",
       "        "
      ]
     },
     "metadata": {},
     "output_type": "display_data"
    }
   ],
   "source": [
    "import pandas as pd\n",
    "import numpy as np\n",
    "from pandas import DataFrame, Series\n",
    "from numpy.random import randn\n",
    "from scipy import stats\n",
    "import sklearn\n",
    "from sklearn.datasets import load_boston\n",
    "import matplotlib as mpl\n",
    "from matplotlib import pyplot as plt\n",
    "import seaborn as sns\n",
    "import plotly as pl\n",
    "from plotly.offline import download_plotlyjs,init_notebook_mode,plot,iplot\n",
    "init_notebook_mode(connected=True)\n",
    "import cufflinks as cf\n",
    "cf.go_offline()\n",
    "import re\n",
    "import datetime"
   ]
  },
  {
   "cell_type": "markdown",
   "metadata": {
    "colab_type": "text",
    "id": "gfiVU9Kr3YEX"
   },
   "source": [
    "#### **데이터 불러오기**\n",
    "1. 오늘의 COVID-19 전세계 분포를 알려주는 데이터 (today’s data on the geographic distribution of COVID-19 cases worldwide) \n",
    "- 데이터 출처: European Centre for Disease Prevention and Control(https://www.ecdc.europa.eu/)\n",
    "- 07/18/2020 까지 업데이트된 자료를 사용\n",
    "\n",
    "2. 국가별 인구 통계 (면적, 인구, 성비, GDP, 실업률 등) \n",
    "- 데이터 출처: UN 데이터를 vinayakbhakta9라는 사람이 전처리한 자료 "
   ]
  },
  {
   "cell_type": "code",
   "execution_count": 6,
   "metadata": {
    "colab": {
     "base_uri": "https://localhost:8080/",
     "height": 147
    },
    "colab_type": "code",
    "id": "Mz0NmABG4gDs",
    "outputId": "101f9d08-6765-4070-a2c0-515bd63096ef"
   },
   "outputs": [
    {
     "data": {
      "text/html": [
       "<div>\n",
       "<style scoped>\n",
       "    .dataframe tbody tr th:only-of-type {\n",
       "        vertical-align: middle;\n",
       "    }\n",
       "\n",
       "    .dataframe tbody tr th {\n",
       "        vertical-align: top;\n",
       "    }\n",
       "\n",
       "    .dataframe thead th {\n",
       "        text-align: right;\n",
       "    }\n",
       "</style>\n",
       "<table border=\"1\" class=\"dataframe\">\n",
       "  <thead>\n",
       "    <tr style=\"text-align: right;\">\n",
       "      <th></th>\n",
       "      <th>dateRep</th>\n",
       "      <th>day</th>\n",
       "      <th>month</th>\n",
       "      <th>year</th>\n",
       "      <th>cases</th>\n",
       "      <th>deaths</th>\n",
       "      <th>countriesAndTerritories</th>\n",
       "      <th>geoId</th>\n",
       "      <th>countryterritoryCode</th>\n",
       "      <th>popData2019</th>\n",
       "      <th>continentExp</th>\n",
       "      <th>Cumulative_number_for_14_days_of_COVID-19_cases_per_100000</th>\n",
       "    </tr>\n",
       "  </thead>\n",
       "  <tbody>\n",
       "    <tr>\n",
       "      <th>30756</th>\n",
       "      <td>22/03/2020</td>\n",
       "      <td>22</td>\n",
       "      <td>3</td>\n",
       "      <td>2020</td>\n",
       "      <td>1</td>\n",
       "      <td>0</td>\n",
       "      <td>Zimbabwe</td>\n",
       "      <td>ZW</td>\n",
       "      <td>ZWE</td>\n",
       "      <td>14645473.0</td>\n",
       "      <td>Africa</td>\n",
       "      <td>NaN</td>\n",
       "    </tr>\n",
       "    <tr>\n",
       "      <th>30757</th>\n",
       "      <td>21/03/2020</td>\n",
       "      <td>21</td>\n",
       "      <td>3</td>\n",
       "      <td>2020</td>\n",
       "      <td>1</td>\n",
       "      <td>0</td>\n",
       "      <td>Zimbabwe</td>\n",
       "      <td>ZW</td>\n",
       "      <td>ZWE</td>\n",
       "      <td>14645473.0</td>\n",
       "      <td>Africa</td>\n",
       "      <td>NaN</td>\n",
       "    </tr>\n",
       "  </tbody>\n",
       "</table>\n",
       "</div>"
      ],
      "text/plain": [
       "          dateRep  day  month  year  cases  deaths countriesAndTerritories  \\\n",
       "30756  22/03/2020   22      3  2020      1       0                Zimbabwe   \n",
       "30757  21/03/2020   21      3  2020      1       0                Zimbabwe   \n",
       "\n",
       "      geoId countryterritoryCode  popData2019 continentExp  \\\n",
       "30756    ZW                  ZWE   14645473.0       Africa   \n",
       "30757    ZW                  ZWE   14645473.0       Africa   \n",
       "\n",
       "       Cumulative_number_for_14_days_of_COVID-19_cases_per_100000  \n",
       "30756                                                NaN           \n",
       "30757                                                NaN           "
      ]
     },
     "execution_count": 6,
     "metadata": {},
     "output_type": "execute_result"
    }
   ],
   "source": [
    "# URL로 csv 파일 다운로드 후, Casesdf라는 이름으로 데이터셋 저장하기 \n",
    "url = \"https://opendata.ecdc.europa.eu/covid19/casedistribution/csv\"\n",
    "Casesdf = pd.read_csv(url, encoding='ISO-8859-1') \n",
    "\n",
    "Casesdf.tail(2)"
   ]
  },
  {
   "cell_type": "code",
   "execution_count": 7,
   "metadata": {
    "colab": {},
    "colab_type": "code",
    "id": "2g_Ak0nN3683"
   },
   "outputs": [],
   "source": [
    "# 변수명 변경하기 \n",
    "Casesdf = Casesdf.rename(columns={'countriesAndTerritories': 'Country'})\n",
    "Casesdf = Casesdf.drop('popData2019', axis=1) \n",
    "Casesdf['dateRep'] = pd.to_datetime(Casesdf['dateRep'])\n",
    "\n",
    "def replaceus(country):\n",
    "      str = re.sub(r'[\\W_]',' ', country)\n",
    "      return(str)\n",
    "Casesdf['CountryNew'] = Casesdf['Country'].apply(replaceus)\n",
    "Casesdf = Casesdf.drop('Country', axis=1)\n",
    "Casesdf = Casesdf.rename(columns={'CountryNew':'Country'})"
   ]
  },
  {
   "cell_type": "code",
   "execution_count": 8,
   "metadata": {
    "colab": {
     "base_uri": "https://localhost:8080/",
     "height": 1000
    },
    "colab_type": "code",
    "id": "-MPxM814J49D",
    "outputId": "4d5d2249-1b9c-4ec7-b8a7-4ba70c358d85"
   },
   "outputs": [
    {
     "name": "stdout",
     "output_type": "stream",
     "text": [
      "<class 'pandas.core.frame.DataFrame'>\n",
      "RangeIndex: 171 entries, 0 to 170\n",
      "Data columns (total 45 columns):\n",
      " #   Column                           Non-Null Count  Dtype  \n",
      "---  ------                           --------------  -----  \n",
      " 0   Country                          171 non-null    object \n",
      " 1   Region                           171 non-null    object \n",
      " 2   Area                             171 non-null    int64  \n",
      " 3   Population                       171 non-null    int64  \n",
      " 4   Population_Density               171 non-null    float64\n",
      " 5   Sex_Ratio_Mto100F                171 non-null    float64\n",
      " 6   GDP                              171 non-null    int64  \n",
      " 7   GDP_Growth_Rate                  171 non-null    float64\n",
      " 8   GDP_Per_Capita                   171 non-null    float64\n",
      " 9   Economy_From_Agriculture         171 non-null    float64\n",
      " 10  Economy_From_Industry            171 non-null    float64\n",
      " 11  Economy_From_Servicing           171 non-null    float64\n",
      " 12  Agri_Percent_Employed            171 non-null    float64\n",
      " 13  Industry_Percent_Employed        171 non-null    float64\n",
      " 14  Servicing_Percent_Employed       171 non-null    float64\n",
      " 15  Unemployed_Percent               171 non-null    float64\n",
      " 16  Labour_Force_Female              171 non-null    float64\n",
      " 17  Labour_Force_Male                171 non-null    float64\n",
      " 18  Agri_Production_Index            171 non-null    int64  \n",
      " 19  Food_Production_Index            171 non-null    int64  \n",
      " 20  International_Trade_Imports      171 non-null    int64  \n",
      " 21  International_Trade_Exports      171 non-null    int64  \n",
      " 22  International_Trade_Balance      171 non-null    int64  \n",
      " 23  Balance_Payments                 171 non-null    int64  \n",
      " 24  Population_Growth_Rate           171 non-null    float64\n",
      " 25  Urban_Population_Percent         171 non-null    float64\n",
      " 26  Urban_Population_GrowthRate      171 non-null    float64\n",
      " 27  Fertility_Rate                   171 non-null    float64\n",
      " 28  Lifeexpectancy_females           171 non-null    float64\n",
      " 29  Lifeexpectancy_males             171 non-null    float64\n",
      " 30  PercentAge_Lessthan14            171 non-null    float64\n",
      " 31  PercentAge_Morethan60            171 non-null    float64\n",
      " 32  PercentAge_15to60                171 non-null    float64\n",
      " 33  Internation_Migrant_Percent      171 non-null    float64\n",
      " 34  Refugees                         171 non-null    float64\n",
      " 35  Infant_Mortality_Rate            171 non-null    float64\n",
      " 36  PercentGDP_Expenditure_Health    171 non-null    float64\n",
      " 37  No_of_Physicians_per1000         171 non-null    float64\n",
      " 38  PercentGDP_Expenditure_Eduction  171 non-null    float64\n",
      " 39  No_Of_Mobile_Subscription        171 non-null    float64\n",
      " 40  No_Of_Internet_Subscription      171 non-null    int64  \n",
      " 41  No_Of_Threatened_Species         171 non-null    float64\n",
      " 42  Percentage_Forested_Area         171 non-null    float64\n",
      " 43  CO2_Emission_Estimate            171 non-null    int64  \n",
      " 44  Energy_Production                171 non-null    int64  \n",
      "dtypes: float64(31), int64(12), object(2)\n",
      "memory usage: 60.2+ KB\n",
      "<class 'pandas.core.frame.DataFrame'>\n",
      "RangeIndex: 195 entries, 0 to 194\n",
      "Data columns (total 7 columns):\n",
      " #   Column                  Non-Null Count  Dtype  \n",
      "---  ------                  --------------  -----  \n",
      " 0   Entity                  195 non-null    object \n",
      " 1   Mutton_Consumption      195 non-null    float64\n",
      " 2   Other_Meat_Consumption  195 non-null    float64\n",
      " 3   Poultry_Consumption     195 non-null    float64\n",
      " 4   Pork_Consumption        192 non-null    float64\n",
      " 5   Beef_Consumption        195 non-null    float64\n",
      " 6   Total_Meat_Consumption  195 non-null    float64\n",
      "dtypes: float64(6), object(1)\n",
      "memory usage: 10.8+ KB\n"
     ]
    }
   ],
   "source": [
    "url = \"https://github.com/vinayakbhakta9/Coronavirus/blob/master/Covid19CasesNew.xlsx?raw=true\"\n",
    "Worlddf = pd.read_excel(url,sheet_name='World')\n",
    "Worlddf.info()\n",
    "url = \"https://github.com/vinayakbhakta9/Coronavirus/blob/master/WorldPoultry.xlsx?raw=true\"\n",
    "Meetdf = pd.read_excel(url,sheet_name='Sheet1')\n",
    "Meetdf.info() "
   ]
  },
  {
   "cell_type": "code",
   "execution_count": 9,
   "metadata": {
    "colab": {},
    "colab_type": "code",
    "id": "07aKG8-w446x"
   },
   "outputs": [],
   "source": [
    "#Calculating Age of the virus in the respective country and rank orders then picks rank 1\n",
    "CasedfFil = Casesdf[Casesdf['cases']>0]\n",
    "Cdfgr1 = CasedfFil.groupby('Country')\n",
    "CasedfFil['Rn'] = Cdfgr1['dateRep'].rank(method='min')\n",
    "CasedfFil = CasedfFil[CasedfFil['Rn']==1]\n",
    "#age calculation\n",
    "def today_date():\n",
    "    date=datetime.datetime.now().date()\n",
    "    date=pd.to_datetime(date)\n",
    "    return date\n",
    "CasedfFil['Today'] = today_date()\n",
    "CasedfFil['Diff'] = CasedfFil['Today'] - CasedfFil['dateRep']\n",
    "#joining with the world df\n",
    "CasedfFil = CasedfFil[['Country', 'Diff']]\n",
    "Worlddf = Worlddf.join(CasedfFil.set_index('Country'), on='Country')\n",
    "Worlddf['Age'] = pd.to_numeric(Worlddf['Diff'].dt.days, downcast='integer')\n",
    "Worlddf = Worlddf.drop('Diff', axis=1)\n",
    "#Adding Count of Cases and Count of deaths in Worlf df\n",
    "Casedfcd = Casesdf.groupby(['Country']).sum()\n",
    "Casedfcd = Casedfcd.drop(['day','month','year'], axis=1)\n",
    "Worlddf = Worlddf.join(Casedfcd, on='Country')\n",
    "#joining with the meet df\n",
    "Worlddf = Worlddf.join(Meetdf.set_index('Entity'), on='Country')"
   ]
  },
  {
   "cell_type": "code",
   "execution_count": 10,
   "metadata": {
    "colab": {
     "base_uri": "https://localhost:8080/",
     "height": 274
    },
    "colab_type": "code",
    "id": "UXU289Ql6y8X",
    "outputId": "9fb8a6d9-ee79-48a1-996a-b549ce1f06f8"
   },
   "outputs": [
    {
     "data": {
      "text/html": [
       "<div>\n",
       "<style scoped>\n",
       "    .dataframe tbody tr th:only-of-type {\n",
       "        vertical-align: middle;\n",
       "    }\n",
       "\n",
       "    .dataframe tbody tr th {\n",
       "        vertical-align: top;\n",
       "    }\n",
       "\n",
       "    .dataframe thead th {\n",
       "        text-align: right;\n",
       "    }\n",
       "</style>\n",
       "<table border=\"1\" class=\"dataframe\">\n",
       "  <thead>\n",
       "    <tr style=\"text-align: right;\">\n",
       "      <th></th>\n",
       "      <th>Country</th>\n",
       "      <th>Region</th>\n",
       "      <th>Area</th>\n",
       "      <th>Population</th>\n",
       "      <th>Population_Density</th>\n",
       "      <th>Sex_Ratio_Mto100F</th>\n",
       "      <th>GDP</th>\n",
       "      <th>GDP_Growth_Rate</th>\n",
       "      <th>GDP_Per_Capita</th>\n",
       "      <th>Economy_From_Agriculture</th>\n",
       "      <th>...</th>\n",
       "      <th>Age</th>\n",
       "      <th>cases</th>\n",
       "      <th>deaths</th>\n",
       "      <th>Cumulative_number_for_14_days_of_COVID-19_cases_per_100000</th>\n",
       "      <th>Mutton_Consumption</th>\n",
       "      <th>Other_Meat_Consumption</th>\n",
       "      <th>Poultry_Consumption</th>\n",
       "      <th>Pork_Consumption</th>\n",
       "      <th>Beef_Consumption</th>\n",
       "      <th>Total_Meat_Consumption</th>\n",
       "    </tr>\n",
       "  </thead>\n",
       "  <tbody>\n",
       "    <tr>\n",
       "      <th>0</th>\n",
       "      <td>Suriname</td>\n",
       "      <td>SouthAmerica</td>\n",
       "      <td>163820</td>\n",
       "      <td>563</td>\n",
       "      <td>3.6</td>\n",
       "      <td>100.7</td>\n",
       "      <td>4879</td>\n",
       "      <td>-2.7</td>\n",
       "      <td>8985.3</td>\n",
       "      <td>11.4</td>\n",
       "      <td>...</td>\n",
       "      <td>197.0</td>\n",
       "      <td>1001.0</td>\n",
       "      <td>20.0</td>\n",
       "      <td>1822.785420</td>\n",
       "      <td>0.04</td>\n",
       "      <td>0.19</td>\n",
       "      <td>31.06</td>\n",
       "      <td>6.82</td>\n",
       "      <td>4.28</td>\n",
       "      <td>42.39</td>\n",
       "    </tr>\n",
       "    <tr>\n",
       "      <th>1</th>\n",
       "      <td>Gabon</td>\n",
       "      <td>MiddleAfrica</td>\n",
       "      <td>267668</td>\n",
       "      <td>2025</td>\n",
       "      <td>7.9</td>\n",
       "      <td>105.6</td>\n",
       "      <td>13735</td>\n",
       "      <td>3.9</td>\n",
       "      <td>7960.7</td>\n",
       "      <td>3.8</td>\n",
       "      <td>...</td>\n",
       "      <td>197.0</td>\n",
       "      <td>6315.0</td>\n",
       "      <td>46.0</td>\n",
       "      <td>3845.983896</td>\n",
       "      <td>0.69</td>\n",
       "      <td>14.85</td>\n",
       "      <td>29.33</td>\n",
       "      <td>7.99</td>\n",
       "      <td>6.34</td>\n",
       "      <td>59.20</td>\n",
       "    </tr>\n",
       "    <tr>\n",
       "      <th>2</th>\n",
       "      <td>Seychelles</td>\n",
       "      <td>EasternAfrica</td>\n",
       "      <td>457</td>\n",
       "      <td>95</td>\n",
       "      <td>206.0</td>\n",
       "      <td>97.2</td>\n",
       "      <td>1363</td>\n",
       "      <td>6.8</td>\n",
       "      <td>14133.2</td>\n",
       "      <td>2.7</td>\n",
       "      <td>...</td>\n",
       "      <td>126.0</td>\n",
       "      <td>100.0</td>\n",
       "      <td>0.0</td>\n",
       "      <td>1211.364729</td>\n",
       "      <td>0.44</td>\n",
       "      <td>0.11</td>\n",
       "      <td>2.22</td>\n",
       "      <td>0.25</td>\n",
       "      <td>0.76</td>\n",
       "      <td>3.78</td>\n",
       "    </tr>\n",
       "    <tr>\n",
       "      <th>3</th>\n",
       "      <td>Guyana</td>\n",
       "      <td>SouthAmerica</td>\n",
       "      <td>214969</td>\n",
       "      <td>778</td>\n",
       "      <td>4.0</td>\n",
       "      <td>101.9</td>\n",
       "      <td>3282</td>\n",
       "      <td>3.1</td>\n",
       "      <td>4278.8</td>\n",
       "      <td>17.6</td>\n",
       "      <td>...</td>\n",
       "      <td>197.0</td>\n",
       "      <td>327.0</td>\n",
       "      <td>19.0</td>\n",
       "      <td>524.288589</td>\n",
       "      <td>1.10</td>\n",
       "      <td>0.04</td>\n",
       "      <td>38.34</td>\n",
       "      <td>2.37</td>\n",
       "      <td>3.37</td>\n",
       "      <td>45.22</td>\n",
       "    </tr>\n",
       "    <tr>\n",
       "      <th>4</th>\n",
       "      <td>Papua New Guinea</td>\n",
       "      <td>Melanesia</td>\n",
       "      <td>462840</td>\n",
       "      <td>8251</td>\n",
       "      <td>18.2</td>\n",
       "      <td>103.5</td>\n",
       "      <td>21315</td>\n",
       "      <td>6.6</td>\n",
       "      <td>2797.6</td>\n",
       "      <td>20.1</td>\n",
       "      <td>...</td>\n",
       "      <td>120.0</td>\n",
       "      <td>15.0</td>\n",
       "      <td>0.0</td>\n",
       "      <td>1.697789</td>\n",
       "      <td>1.79</td>\n",
       "      <td>0.51</td>\n",
       "      <td>4.08</td>\n",
       "      <td>0.17</td>\n",
       "      <td>6.50</td>\n",
       "      <td>13.05</td>\n",
       "    </tr>\n",
       "  </tbody>\n",
       "</table>\n",
       "<p>5 rows × 55 columns</p>\n",
       "</div>"
      ],
      "text/plain": [
       "            Country         Region    Area  Population  Population_Density  \\\n",
       "0          Suriname   SouthAmerica  163820         563                 3.6   \n",
       "1             Gabon   MiddleAfrica  267668        2025                 7.9   \n",
       "2        Seychelles  EasternAfrica     457          95               206.0   \n",
       "3            Guyana   SouthAmerica  214969         778                 4.0   \n",
       "4  Papua New Guinea      Melanesia  462840        8251                18.2   \n",
       "\n",
       "   Sex_Ratio_Mto100F    GDP  GDP_Growth_Rate  GDP_Per_Capita  \\\n",
       "0              100.7   4879             -2.7          8985.3   \n",
       "1              105.6  13735              3.9          7960.7   \n",
       "2               97.2   1363              6.8         14133.2   \n",
       "3              101.9   3282              3.1          4278.8   \n",
       "4              103.5  21315              6.6          2797.6   \n",
       "\n",
       "   Economy_From_Agriculture  ...    Age   cases  deaths  \\\n",
       "0                      11.4  ...  197.0  1001.0    20.0   \n",
       "1                       3.8  ...  197.0  6315.0    46.0   \n",
       "2                       2.7  ...  126.0   100.0     0.0   \n",
       "3                      17.6  ...  197.0   327.0    19.0   \n",
       "4                      20.1  ...  120.0    15.0     0.0   \n",
       "\n",
       "   Cumulative_number_for_14_days_of_COVID-19_cases_per_100000  \\\n",
       "0                                        1822.785420            \n",
       "1                                        3845.983896            \n",
       "2                                        1211.364729            \n",
       "3                                         524.288589            \n",
       "4                                           1.697789            \n",
       "\n",
       "   Mutton_Consumption  Other_Meat_Consumption  Poultry_Consumption  \\\n",
       "0                0.04                    0.19                31.06   \n",
       "1                0.69                   14.85                29.33   \n",
       "2                0.44                    0.11                 2.22   \n",
       "3                1.10                    0.04                38.34   \n",
       "4                1.79                    0.51                 4.08   \n",
       "\n",
       "   Pork_Consumption  Beef_Consumption  Total_Meat_Consumption  \n",
       "0              6.82              4.28                   42.39  \n",
       "1              7.99              6.34                   59.20  \n",
       "2              0.25              0.76                    3.78  \n",
       "3              2.37              3.37                   45.22  \n",
       "4              0.17              6.50                   13.05  \n",
       "\n",
       "[5 rows x 55 columns]"
      ]
     },
     "execution_count": 10,
     "metadata": {},
     "output_type": "execute_result"
    }
   ],
   "source": [
    "Worlddf.head()"
   ]
  },
  {
   "cell_type": "markdown",
   "metadata": {
    "colab_type": "text",
    "id": "vVwJB5eWL2nH"
   },
   "source": [
    "최종적으로 변수 59개가 사용된다. "
   ]
  },
  {
   "cell_type": "markdown",
   "metadata": {
    "colab_type": "text",
    "id": "_E_90afVVmSh"
   },
   "source": [
    "#### **결측치 처리**"
   ]
  },
  {
   "cell_type": "code",
   "execution_count": 11,
   "metadata": {
    "colab": {},
    "colab_type": "code",
    "id": "kXbH6jxwMGDC"
   },
   "outputs": [],
   "source": [
    "Worlddf.replace([np.inf, -np.inf], np.nan, inplace=True)\n",
    "Worlddf.fillna(0, inplace=True) "
   ]
  },
  {
   "cell_type": "markdown",
   "metadata": {
    "colab_type": "text",
    "id": "LAcdDbZYV7rz"
   },
   "source": [
    "#### **랜덤 포레스트 모델 만들기**"
   ]
  },
  {
   "cell_type": "markdown",
   "metadata": {
    "colab_type": "text",
    "id": "Zm5s6TFNot36"
   },
   "source": [
    "##### **1. 사망건수(Deaths) 기준** "
   ]
  },
  {
   "cell_type": "code",
   "execution_count": 55,
   "metadata": {
    "colab": {},
    "colab_type": "code",
    "id": "gow1Y_yroBAU"
   },
   "outputs": [],
   "source": [
    "from sklearn.ensemble import RandomForestRegressor\n",
    "\n",
    "X_train=Worlddf.drop(['Country','Region','cases','deaths'], axis=1)\n",
    "Y_train=Worlddf['deaths']\n",
    "Y_train=pd.get_dummies(Y_train)\n",
    "\n",
    "forest1 = RandomForestRegressor(n_estimators = 100, random_state=1) # 100개의 트리 만들기 \n",
    "X_train=pd.get_dummies(X_train)\n",
    "\n",
    "forest1.fit(X_train,Y_train)\n",
    "features1 = X_train.columns\n",
    "importances1 = forest1.feature_importances_   # forcast1 모델의 변수 중요도를 importances1에 저장하기 \n",
    "\n"
   ]
  },
  {
   "cell_type": "code",
   "execution_count": 61,
   "metadata": {},
   "outputs": [],
   "source": [
    "indices1 = np.argsort(importances1)[-10:] # 변수중요도 top 10을 indices1에 저장하기 "
   ]
  },
  {
   "cell_type": "code",
   "execution_count": 50,
   "metadata": {},
   "outputs": [
    {
     "data": {
      "text/plain": [
       "array([0.00970469, 0.01189154, 0.0129369 , 0.01308573, 0.01386127,\n",
       "       0.01395159, 0.01433636, 0.01469468, 0.01511747, 0.01526913,\n",
       "       0.01558039, 0.01569282, 0.01585745, 0.01599913, 0.01612537,\n",
       "       0.01663881, 0.01667749, 0.01681055, 0.01685351, 0.01717169,\n",
       "       0.01741074, 0.01742455, 0.0176801 , 0.01855309, 0.0186212 ,\n",
       "       0.01874491, 0.01896534, 0.01901417, 0.01917018, 0.01926434,\n",
       "       0.01941834, 0.01943912, 0.01958887, 0.02015785, 0.02039055,\n",
       "       0.02059711, 0.02082432, 0.02111258, 0.02154591, 0.02168913,\n",
       "       0.02252851, 0.02295857, 0.02340135, 0.02380596, 0.02417673,\n",
       "       0.02505498, 0.02524608, 0.02527095, 0.02910772, 0.03325064,\n",
       "       0.05732954])"
      ]
     },
     "execution_count": 50,
     "metadata": {},
     "output_type": "execute_result"
    }
   ],
   "source": [
    "a=np.sort(importances1)\n",
    "a"
   ]
  },
  {
   "cell_type": "code",
   "execution_count": 62,
   "metadata": {},
   "outputs": [
    {
     "data": {
      "text/plain": [
       "array([15,  5, 45, 20, 13,  1, 38, 32, 44, 43], dtype=int64)"
      ]
     },
     "execution_count": 62,
     "metadata": {},
     "output_type": "execute_result"
    }
   ],
   "source": [
    "indices1"
   ]
  },
  {
   "cell_type": "code",
   "execution_count": 63,
   "metadata": {},
   "outputs": [
    {
     "data": {
      "text/plain": [
       "array([0.02295857, 0.02340135, 0.02380596, 0.02417673, 0.02505498,\n",
       "       0.02524608, 0.02527095, 0.02910772, 0.03325064, 0.05732954])"
      ]
     },
     "execution_count": 63,
     "metadata": {},
     "output_type": "execute_result"
    }
   ],
   "source": [
    "importances1[indices1]"
   ]
  },
  {
   "cell_type": "markdown",
   "metadata": {
    "colab_type": "text",
    "id": "UQ32xdYpWEZM"
   },
   "source": [
    "#### **변수중요도 그래프 그리기**"
   ]
  },
  {
   "cell_type": "code",
   "execution_count": 64,
   "metadata": {
    "colab": {
     "base_uri": "https://localhost:8080/",
     "height": 295
    },
    "colab_type": "code",
    "id": "kxZsKDbqOVXb",
    "outputId": "7f674676-33e9-4104-9d49-aa394fb272c1"
   },
   "outputs": [
    {
     "data": {
      "image/png": "[encoded data removed]",
      "text/plain": [
       "<Figure size 432x288 with 1 Axes>"
      ]
     },
     "metadata": {
      "needs_background": "light"
     },
     "output_type": "display_data"
    }
   ],
   "source": [
    "plt.title(\"Feature Importances by Deaths\") \n",
    "plt.barh(range(len(indices1)), importances1[indices1], color='g', align='center')  # 가로로 눕혀진 막대그래프 그리기 \n",
    "plt.yticks(range(len(indices1)), [features1[i] for i in indices1])\n",
    "plt.xlabel(\"Relative Importance\")\n",
    "plt.show() \n",
    "compdf = pd.DataFrame( {\"Column\": X_train.columns, \"importance\": importances1}).sort_values(\"importance\", ascending=False) "
   ]
  },
  {
   "cell_type": "code",
   "execution_count": 65,
   "metadata": {
    "colab": {
     "base_uri": "https://localhost:8080/",
     "height": 55
    },
    "colab_type": "code",
    "id": "fNJuLyvDMJDs",
    "outputId": "36911312-f9f2-49b4-eb16-603c2843b7ea"
   },
   "outputs": [
    {
     "name": "stdout",
     "output_type": "stream",
     "text": [
      "이 임계 조건을 만족하는 샘플의 수: 1\n",
      " 1) Labour_Force_Male 0.022959\n"
     ]
    }
   ],
   "source": [
    "from sklearn.feature_selection import SelectFromModel\n",
    "\n",
    "sfm1 = SelectFromModel(forest1, threshold=0.05, prefit=True)\n",
    "X_selected = sfm1.transform(X_train)\n",
    "\n",
    "print('이 임계 조건을 만족하는 샘플의 수:', X_selected.shape[1])\n",
    "\n",
    "for f in range(X_selected.shape[1]):\n",
    "  print(\"%2d) %-*s %f\" % (f + 1, 10,\n",
    "                          features1[indices1[f]],\n",
    "                          importances1[indices1[f]])) "
   ]
  },
  {
   "cell_type": "markdown",
   "metadata": {
    "colab_type": "text",
    "id": "3IbBh1y8ooeY"
   },
   "source": [
    "##### **2. 발생건수(Cases) 기준** "
   ]
  },
  {
   "cell_type": "code",
   "execution_count": 39,
   "metadata": {
    "colab": {},
    "colab_type": "code",
    "id": "oXIU81rFqcCS"
   },
   "outputs": [],
   "source": [
    "from sklearn.ensemble import RandomForestRegressor\n",
    "\n",
    "X_train=Worlddf.drop(['Country','Region','cases','deaths'], axis=1)\n",
    "Y_train2=Worlddf[\"cases\"] # 예측할 변수(y변수)는 발생건수입니다. 데이터셋에는 cases랴는 변수명으로 되어있어요. \n",
    "Y_train2=pd.get_dummies(Y_train2)\n",
    "\n",
    "forest2 = RandomForestRegressor(n_estimators=100, random_state=1)\n",
    "X_train=pd.get_dummies(X_train)\n",
    "\n",
    "forest2.fit(X_train,Y_train2)\n",
    "features2 = X_train.columns\n",
    "importances2 = forest2.feature_importances_\n",
    "\n",
    "indices2 = np.argsort(importances2)[-10:]"
   ]
  },
  {
   "cell_type": "markdown",
   "metadata": {
    "colab_type": "text",
    "id": "FLDmsV_bqsrg"
   },
   "source": [
    "#### **변수중요도 그래프 그리기**"
   ]
  },
  {
   "cell_type": "code",
   "execution_count": 40,
   "metadata": {
    "colab": {
     "base_uri": "https://localhost:8080/",
     "height": 295
    },
    "colab_type": "code",
    "id": "rtwv4aYwqsrh",
    "outputId": "db75b7f5-9bb7-42f1-b16a-41aab9b9984c"
   },
   "outputs": [
    {
     "data": {
      "image/png": "[encoded data removed]",
      "text/plain": [
       "<Figure size 432x288 with 1 Axes>"
      ]
     },
     "metadata": {
      "needs_background": "light"
     },
     "output_type": "display_data"
    }
   ],
   "source": [
    "plt.title(\"Feature Importances by Cases\") \n",
    "plt.barh(range(len(indices2)), importances2[indices2], color='b', align='center') \n",
    "plt.yticks(range(len(indices2)), [features2[i] for i in indices2])\n",
    "plt.xlabel(\"Relative Importance\")\n",
    "plt.show() \n",
    "compdf = pd.DataFrame( {\"Column\": X_train.columns, \"importance\": importances2}).sort_values(\"importance\", ascending=False) "
   ]
  },
  {
   "cell_type": "code",
   "execution_count": 41,
   "metadata": {
    "colab": {
     "base_uri": "https://localhost:8080/",
     "height": 111
    },
    "colab_type": "code",
    "id": "Pkp-XaFDqsrm",
    "outputId": "73f1a183-788e-4bfa-942d-1ba74bb7cd36"
   },
   "outputs": [
    {
     "name": "stdout",
     "output_type": "stream",
     "text": [
      "이 임계 조건을 만족하는 샘플의 수: 0\n"
     ]
    },
    {
     "name": "stderr",
     "output_type": "stream",
     "text": [
      "C:\\Users\\jinny\\anaconda3\\lib\\site-packages\\sklearn\\feature_selection\\_base.py:81: UserWarning:\n",
      "\n",
      "No features were selected: either the data is too noisy or the selection test too strict.\n",
      "\n"
     ]
    }
   ],
   "source": [
    "from sklearn.feature_selection import SelectFromModel\n",
    "\n",
    "sfm2 = SelectFromModel(forest2, threshold=0.05, prefit=True)\n",
    "X_selected2 = sfm2.transform(X_train)\n",
    "\n",
    "print('이 임계 조건을 만족하는 샘플의 수:', X_selected2.shape[1])\n",
    "\n",
    "for f in range(X_selected2.shape[1]):\n",
    "  print(\"%2d) %-*s %f\" % (f + 1, 10,\n",
    "                          features2[indices2[f]],\n",
    "                          importances2[indices2[f]])) "
   ]
  },
  {
   "cell_type": "code",
   "execution_count": null,
   "metadata": {
    "colab": {},
    "colab_type": "code",
    "id": "Z6R9Upzhq_lx"
   },
   "outputs": [],
   "source": []
  }
 ],
 "metadata": {
  "colab": {
   "collapsed_sections": [],
   "name": "200720 ESAA 퀴즈.ipynb",
   "provenance": []
  },
  "kernelspec": {
   "display_name": "Python 3",
   "language": "python",
   "name": "python3"
  },
  "language_info": {
   "codemirror_mode": {
    "name": "ipython",
    "version": 3
   },
   "file_extension": ".py",
   "mimetype": "text/x-python",
   "name": "python",
   "nbconvert_exporter": "python",
   "pygments_lexer": "ipython3",
   "version": "3.7.6"
  }
 },
 "nbformat": 4,
 "nbformat_minor": 1
}
